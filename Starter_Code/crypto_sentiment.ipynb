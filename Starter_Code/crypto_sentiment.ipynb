{
 "cells": [
  {
   "cell_type": "markdown",
   "metadata": {},
   "source": [
    "# Unit 12 - Tales from the Crypto\n",
    "\n",
    "---\n"
   ]
  },
  {
   "cell_type": "markdown",
   "metadata": {},
   "source": [
    "## 1. Sentiment Analysis\n",
    "\n",
    "Use the [newsapi](https://newsapi.org/) to pull the latest news articles for Bitcoin and Ethereum and create a DataFrame of sentiment scores for each coin.\n",
    "\n",
    "Use descriptive statistics to answer the following questions:\n",
    "1. Which coin had the highest mean positive score?\n",
    "2. Which coin had the highest negative score?\n",
    "3. Which coin had the highest positive score?"
   ]
  },
  {
   "cell_type": "code",
   "execution_count": 48,
   "metadata": {},
   "outputs": [
    {
     "name": "stderr",
     "output_type": "stream",
     "text": [
      "[nltk_data] Downloading package vader_lexicon to\n",
      "[nltk_data]     /Users/alicehume/nltk_data...\n",
      "[nltk_data]   Package vader_lexicon is already up-to-date!\n"
     ]
    }
   ],
   "source": [
    "# Initial imports\n",
    "import os\n",
    "import pandas as pd\n",
    "from dotenv import load_dotenv\n",
    "import nltk as nltk\n",
    "nltk.download('vader_lexicon')\n",
    "from nltk.sentiment.vader import SentimentIntensityAnalyzer\n",
    "analyzer = SentimentIntensityAnalyzer()\n",
    "\n",
    "%matplotlib inline"
   ]
  },
  {
   "cell_type": "code",
   "execution_count": 63,
   "metadata": {},
   "outputs": [
    {
     "data": {
      "text/plain": [
       "True"
      ]
     },
     "execution_count": 63,
     "metadata": {},
     "output_type": "execute_result"
    }
   ],
   "source": [
    "# Read your api key environment variable\n",
    "load_dotenv()"
   ]
  },
  {
   "cell_type": "code",
   "execution_count": 67,
   "metadata": {},
   "outputs": [
    {
     "data": {
      "text/plain": [
       "str"
      ]
     },
     "execution_count": 67,
     "metadata": {},
     "output_type": "execute_result"
    }
   ],
   "source": [
    "# Create a newsapi client\n",
    "news_api = os.getenv(\"NEWS_API_KEY\")\n",
    "type(news_api)"
   ]
  },
  {
   "cell_type": "code",
   "execution_count": 76,
   "metadata": {
    "tags": []
   },
   "outputs": [
    {
     "ename": "AttributeError",
     "evalue": "module 'newsapi' has no attribute 'get_everything'",
     "output_type": "error",
     "traceback": [
      "\u001b[0;31m---------------------------------------------------------------------------\u001b[0m",
      "\u001b[0;31mAttributeError\u001b[0m                            Traceback (most recent call last)",
      "Input \u001b[0;32mIn [76]\u001b[0m, in \u001b[0;36m<cell line: 5>\u001b[0;34m()\u001b[0m\n\u001b[1;32m      2\u001b[0m \u001b[38;5;28;01mimport\u001b[39;00m \u001b[38;5;21;01mnewsapi\u001b[39;00m\n\u001b[1;32m      3\u001b[0m \u001b[38;5;28;01mfrom\u001b[39;00m \u001b[38;5;21;01mnewsapi\u001b[39;00m \u001b[38;5;28;01mimport\u001b[39;00m NewsApiClient\n\u001b[0;32m----> 5\u001b[0m all_bitcoin_articles \u001b[38;5;241m=\u001b[39m \u001b[43mnewsapi\u001b[49m\u001b[38;5;241;43m.\u001b[39;49m\u001b[43mget_everything\u001b[49m(q\u001b[38;5;241m=\u001b[39m\u001b[38;5;124m'\u001b[39m\u001b[38;5;124mbitcoin\u001b[39m\u001b[38;5;124m'\u001b[39m,\n\u001b[1;32m      6\u001b[0m                                       from_param\u001b[38;5;241m=\u001b[39m\u001b[38;5;124m'\u001b[39m\u001b[38;5;124m2017-12-01\u001b[39m\u001b[38;5;124m'\u001b[39m,\n\u001b[1;32m      7\u001b[0m                                       to\u001b[38;5;241m=\u001b[39m\u001b[38;5;124m'\u001b[39m\u001b[38;5;124m2022-06-05\u001b[39m\u001b[38;5;124m'\u001b[39m,\n\u001b[1;32m      8\u001b[0m                                       language\u001b[38;5;241m=\u001b[39m\u001b[38;5;124m'\u001b[39m\u001b[38;5;124men\u001b[39m\u001b[38;5;124m'\u001b[39m,\n\u001b[1;32m      9\u001b[0m                                       sort_by\u001b[38;5;241m=\u001b[39m\u001b[38;5;124m'\u001b[39m\u001b[38;5;124mrelevancy\u001b[39m\u001b[38;5;124m'\u001b[39m)\n",
      "\u001b[0;31mAttributeError\u001b[0m: module 'newsapi' has no attribute 'get_everything'"
     ]
    }
   ],
   "source": [
    "# Fetch the Bitcoin news articles\n",
    "import newsapi\n",
    "from newsapi import NewsApiClient\n",
    "\n",
    "all_bitcoin_articles = newsapi.get_everything(q='bitcoin',\n",
    "                                      from_param='2017-12-01',\n",
    "                                      to='2022-06-05',\n",
    "                                      language='en',\n",
    "                                      sort_by='relevancy')"
   ]
  },
  {
   "cell_type": "code",
   "execution_count": 77,
   "metadata": {},
   "outputs": [
    {
     "data": {
      "text/html": [
       "<div>\n",
       "<style scoped>\n",
       "    .dataframe tbody tr th:only-of-type {\n",
       "        vertical-align: middle;\n",
       "    }\n",
       "\n",
       "    .dataframe tbody tr th {\n",
       "        vertical-align: top;\n",
       "    }\n",
       "\n",
       "    .dataframe thead th {\n",
       "        text-align: right;\n",
       "    }\n",
       "</style>\n",
       "<table border=\"1\" class=\"dataframe\">\n",
       "  <thead>\n",
       "    <tr style=\"text-align: right;\">\n",
       "      <th></th>\n",
       "      <th>source</th>\n",
       "      <th>author</th>\n",
       "      <th>title</th>\n",
       "      <th>description</th>\n",
       "      <th>url</th>\n",
       "      <th>urlToImage</th>\n",
       "      <th>publishedAt</th>\n",
       "      <th>content</th>\n",
       "    </tr>\n",
       "  </thead>\n",
       "  <tbody>\n",
       "    <tr>\n",
       "      <th>15</th>\n",
       "      <td>{'id': 'reuters', 'name': 'Reuters'}</td>\n",
       "      <td>None</td>\n",
       "      <td>Cryptoverse: Is the end of the bitcoin winter ...</td>\n",
       "      <td>The crypto winter is into its ninth week and b...</td>\n",
       "      <td>https://www.reuters.com/markets/europe/cryptov...</td>\n",
       "      <td>https://www.reuters.com/resizer/tskc85lFRu_oQw...</td>\n",
       "      <td>2022-05-24T05:30:00Z</td>\n",
       "      <td>May 24 (Reuters) - The crypto winter is into i...</td>\n",
       "    </tr>\n",
       "    <tr>\n",
       "      <th>16</th>\n",
       "      <td>{'id': 'reuters', 'name': 'Reuters'}</td>\n",
       "      <td>None</td>\n",
       "      <td>Cryptoverse: Buying the dip? Bitcoin's a rates...</td>\n",
       "      <td>Bitcoin has scant experience with rising inter...</td>\n",
       "      <td>https://www.reuters.com/business/finance/crypt...</td>\n",
       "      <td>https://www.reuters.com/resizer/mhnlNnjhE1y-CQ...</td>\n",
       "      <td>2022-05-10T05:17:00Z</td>\n",
       "      <td>May 10 (Reuters) - Bitcoin has scant experienc...</td>\n",
       "    </tr>\n",
       "    <tr>\n",
       "      <th>17</th>\n",
       "      <td>{'id': None, 'name': 'CNET'}</td>\n",
       "      <td>Julian Dossett</td>\n",
       "      <td>Terra 2.0 Launch Planned Following Luna Meltdo...</td>\n",
       "      <td>All the bitcoin, cryptocurrency and NFT news f...</td>\n",
       "      <td>https://www.cnet.com/personal-finance/crypto/t...</td>\n",
       "      <td>https://www.cnet.com/a/img/resize/941676ec40a5...</td>\n",
       "      <td>2022-05-28T17:36:26Z</td>\n",
       "      <td>Terra is launching a new blockchain with a new...</td>\n",
       "    </tr>\n",
       "    <tr>\n",
       "      <th>18</th>\n",
       "      <td>{'id': None, 'name': 'CNET'}</td>\n",
       "      <td>Julian Dossett</td>\n",
       "      <td>Terra 2.0 Is Now Live, Following Luna Meltdown...</td>\n",
       "      <td>All the bitcoin, cryptocurrency and NFT news f...</td>\n",
       "      <td>https://www.cnet.com/personal-finance/crypto/t...</td>\n",
       "      <td>https://www.cnet.com/a/img/resize/941676ec40a5...</td>\n",
       "      <td>2022-05-28T20:57:40Z</td>\n",
       "      <td>Terra launched a new blockchain with a new lun...</td>\n",
       "    </tr>\n",
       "    <tr>\n",
       "      <th>19</th>\n",
       "      <td>{'id': None, 'name': 'CNET'}</td>\n",
       "      <td>Julian Dossett</td>\n",
       "      <td>After Luna Collapse, Terra Looks to New Blockc...</td>\n",
       "      <td>All the bitcoin, cryptocurrency and NFT news f...</td>\n",
       "      <td>https://www.cnet.com/personal-finance/crypto/a...</td>\n",
       "      <td>https://www.cnet.com/a/img/resize/941676ec40a5...</td>\n",
       "      <td>2022-05-21T11:30:06Z</td>\n",
       "      <td>After two linked cryptocurrencies collapsed an...</td>\n",
       "    </tr>\n",
       "  </tbody>\n",
       "</table>\n",
       "</div>"
      ],
      "text/plain": [
       "                                  source          author  \\\n",
       "15  {'id': 'reuters', 'name': 'Reuters'}            None   \n",
       "16  {'id': 'reuters', 'name': 'Reuters'}            None   \n",
       "17          {'id': None, 'name': 'CNET'}  Julian Dossett   \n",
       "18          {'id': None, 'name': 'CNET'}  Julian Dossett   \n",
       "19          {'id': None, 'name': 'CNET'}  Julian Dossett   \n",
       "\n",
       "                                                title  \\\n",
       "15  Cryptoverse: Is the end of the bitcoin winter ...   \n",
       "16  Cryptoverse: Buying the dip? Bitcoin's a rates...   \n",
       "17  Terra 2.0 Launch Planned Following Luna Meltdo...   \n",
       "18  Terra 2.0 Is Now Live, Following Luna Meltdown...   \n",
       "19  After Luna Collapse, Terra Looks to New Blockc...   \n",
       "\n",
       "                                          description  \\\n",
       "15  The crypto winter is into its ninth week and b...   \n",
       "16  Bitcoin has scant experience with rising inter...   \n",
       "17  All the bitcoin, cryptocurrency and NFT news f...   \n",
       "18  All the bitcoin, cryptocurrency and NFT news f...   \n",
       "19  All the bitcoin, cryptocurrency and NFT news f...   \n",
       "\n",
       "                                                  url  \\\n",
       "15  https://www.reuters.com/markets/europe/cryptov...   \n",
       "16  https://www.reuters.com/business/finance/crypt...   \n",
       "17  https://www.cnet.com/personal-finance/crypto/t...   \n",
       "18  https://www.cnet.com/personal-finance/crypto/t...   \n",
       "19  https://www.cnet.com/personal-finance/crypto/a...   \n",
       "\n",
       "                                           urlToImage           publishedAt  \\\n",
       "15  https://www.reuters.com/resizer/tskc85lFRu_oQw...  2022-05-24T05:30:00Z   \n",
       "16  https://www.reuters.com/resizer/mhnlNnjhE1y-CQ...  2022-05-10T05:17:00Z   \n",
       "17  https://www.cnet.com/a/img/resize/941676ec40a5...  2022-05-28T17:36:26Z   \n",
       "18  https://www.cnet.com/a/img/resize/941676ec40a5...  2022-05-28T20:57:40Z   \n",
       "19  https://www.cnet.com/a/img/resize/941676ec40a5...  2022-05-21T11:30:06Z   \n",
       "\n",
       "                                              content  \n",
       "15  May 24 (Reuters) - The crypto winter is into i...  \n",
       "16  May 10 (Reuters) - Bitcoin has scant experienc...  \n",
       "17  Terra is launching a new blockchain with a new...  \n",
       "18  Terra launched a new blockchain with a new lun...  \n",
       "19  After two linked cryptocurrencies collapsed an...  "
      ]
     },
     "execution_count": 77,
     "metadata": {},
     "output_type": "execute_result"
    }
   ],
   "source": [
    "bitcoin_df = pd.DataFrame(bitcoin_articles[\"articles\"])\n",
    "bitcoin_df.tail()"
   ]
  },
  {
   "cell_type": "code",
   "execution_count": 58,
   "metadata": {},
   "outputs": [
    {
     "data": {
      "text/plain": [
       "{'status': 'ok',\n",
       " 'totalResults': 6495,\n",
       " 'articles': [{'source': {'id': 'engadget', 'name': 'Engadget'},\n",
       "   'author': 'Jon Fingas',\n",
       "   'title': \"Here's what NFTs look like on Instagram\",\n",
       "   'description': \"Meta has revealed more of how NFTs will work on Instagram. In the US-based test, you can show what you've bought or created for free by connecting your Instagram account to a compatible digital wallet and posting for the world to see. If you like, the social …\",\n",
       "   'url': 'https://www.engadget.com/instagram-nft-details-131020868.html',\n",
       "   'urlToImage': 'https://s.yimg.com/os/creatr-uploaded-images/2022-05/2546c160-d05e-11ec-b75e-e45eaa8c5b2b',\n",
       "   'publishedAt': '2022-05-10T13:10:20Z',\n",
       "   'content': \"Meta has revealed more of how NFTs will work on Instagram. In the US-based test, you can show what you've bought or created for free by connecting your Instagram account to a compatible digital walle… [+1223 chars]\"},\n",
       "  {'source': {'id': None, 'name': 'Gizmodo.com'},\n",
       "   'author': 'Kyle Barr',\n",
       "   'title': 'GameStop Dunks Its Head Into the Crypto Kiddie Pool',\n",
       "   'description': 'GameStop has officially thrown itself headlong into the web3 vipers nest with a new app release, though it’s hard to say whether its proposed population of gamers and game developers will take up the company on its belated, head-first jump into the crypto sph…',\n",
       "   'url': 'https://gizmodo.com/gamestop-crypto-nft-wallet-blockchain-1848965386',\n",
       "   'urlToImage': 'https://i.kinja-img.com/gawker-media/image/upload/c_fill,f_auto,fl_progressive,g_center,h_675,pg_1,q_80,w_1200/cd4c128b4182d7b2fba8152d7bb35733.jpg',\n",
       "   'publishedAt': '2022-05-23T21:35:00Z',\n",
       "   'content': 'GameStop has officially thrown itself headlong into the web3 vipers nest with a new app release, though its hard to say whether its proposed population of gamers and game developers will take up the … [+3255 chars]'},\n",
       "  {'source': {'id': None, 'name': 'CNET'},\n",
       "   'author': 'Sarah Lord',\n",
       "   'title': 'GameStop Launching Digital Wallet for Cryptocurrencies, NFTs - CNET',\n",
       "   'description': \"The self-custodial Ethereum wallet will have its own Google Chrome extension and can be used to complete transactions on the company's upcoming NFT marketplace.\",\n",
       "   'url': 'https://www.cnet.com/tech/services-and-software/gamestop-launching-digital-wallet-for-cryptocurrencies-nfts/',\n",
       "   'urlToImage': 'https://www.cnet.com/a/img/resize/00e1b8fca281f501a409d88e2eda84a4231959db/2022/02/03/f408f29c-7a96-4e3f-b04d-53f792972f8c/gettyimages-1235868944.jpg?auto=webp&fit=crop&height=630&width=1200',\n",
       "   'publishedAt': '2022-05-23T14:06:00Z',\n",
       "   'content': 'GameStop is going all-in on crypto. The video game retailer launched\\xa0its own self-custodial Ethereum digital wallet, it said Monday. The wallet will be accessible through a Google Chrome extension an… [+1491 chars]'},\n",
       "  {'source': {'id': 'engadget', 'name': 'Engadget'},\n",
       "   'author': 'Kris Holt',\n",
       "   'title': 'New York passes a bill to limit bitcoin mining',\n",
       "   'description': \"New York lawmakers have passed a bill\\r\\n that would temporarily ban new bitcoin\\r\\n mining operations. Early on Friday, state senators voted 36-27 to pass the legislation. It's now bound for the desk of Governor Kathy Hochul, who will sign it into law or veto th…\",\n",
       "   'url': 'https://www.engadget.com/new-york-cryptocurrency-bill-bitcoin-mining-climate-change-161126292.html',\n",
       "   'urlToImage': 'https://s.yimg.com/os/creatr-uploaded-images/2021-05/a8217250-bdfa-11eb-bfc4-2663225cea83',\n",
       "   'publishedAt': '2022-06-03T16:11:26Z',\n",
       "   'content': \"New York lawmakers have passed a bill\\r\\n that would temporarily ban new bitcoin\\r\\n mining operations. Early on Friday, state senators voted 36-27 to pass the legislation. It's now bound for the desk of… [+2036 chars]\"},\n",
       "  {'source': {'id': 'reuters', 'name': 'Reuters'},\n",
       "   'author': None,\n",
       "   'title': \"'Pay more attention' Ethereum co-founder says of crypto crash - Reuters\",\n",
       "   'description': \"Ethereum's co-founder Gavin Wood said cryptocurrency investors need to be more aware of what is backing their holdings after a market rout which wiped more than $800 billion off their value.\",\n",
       "   'url': 'https://www.reuters.com/markets/us/pay-more-attention-ethereum-co-founder-says-crypto-crash-2022-05-25/',\n",
       "   'urlToImage': 'https://www.reuters.com/resizer/XsA-mJuk-UfiaqX_lbwtVZ8Egp4=/1200x628/smart/filters:quality(80)/cloudfront-us-east-2.images.arcpublishing.com/reuters/TK5SKXCQMNPBFOQOZZTJB55GHQ.jpg',\n",
       "   'publishedAt': '2022-05-25T09:33:00Z',\n",
       "   'content': \"DAVOS, Switzerland, May 25 (Reuters) - Ethereum's co-founder Gavin Wood said cryptocurrency investors need to be more aware of what is backing their holdings after a market rout which wiped more than… [+1744 chars]\"},\n",
       "  {'source': {'id': 'time', 'name': 'Time'},\n",
       "   'author': None,\n",
       "   'title': 'Ethereum and Bitcoin Prices Are Tanking. Here’s Why One Expert Thinks Bitcoin Could Drop Even Lower - NextAdvisor',\n",
       "   'description': '<ol><li>Ethereum and Bitcoin Prices Are Tanking. Here’s Why One Expert Thinks Bitcoin Could Drop Even Lower\\xa0\\xa0NextAdvisor\\r\\n</li><li>Does the cryptocurrency crash pose a threat to the financial system?\\xa0\\xa0Financial Post\\r\\n</li><li>Going ‘To Zero’—Panic Is Sweeping…',\n",
       "   'url': 'https://time.com/nextadvisor/investing/cryptocurrency/cryptocurrency-btc-eth-price-falling/',\n",
       "   'urlToImage': 'https://time.com/nextadvisor/wp-content/uploads/2022/05/daily-crypto-update-4-9-1000x630.jpg',\n",
       "   'publishedAt': '2022-05-09T16:44:18Z',\n",
       "   'content': 'Editorial IndependenceWe want to help you make more informed decisions. Some links on this page clearly marked may take you to a partner website and may result in us earning a referral commission. Fo… [+6022 chars]'},\n",
       "  {'source': {'id': None, 'name': 'Slashdot.org'},\n",
       "   'author': 'EditorDavid',\n",
       "   'title': 'Cryptocurrency Markets Drop $200B, Bitcoin Down 50% Since November',\n",
       "   'description': '40 days ago Bitcoin sold for $47,454. It\\'s price now is $34,007 — a drop of 28%. \\nAbout a third of that drop happened this week, as \"Bitcoin, ethereum and other major cryptocurrencies have fallen sharply,\" Forbes reports, \"wiping around $200 billion from the …',\n",
       "   'url': 'https://news.slashdot.org/story/22/05/09/0026233/cryptocurrency-markets-drop-200b-bitcoin-down-50-since-november',\n",
       "   'urlToImage': 'https://a.fsdn.com/sd/topics/bitcoin_64.png',\n",
       "   'publishedAt': '2022-05-09T01:34:00Z',\n",
       "   'content': '40 days ago Bitcoin sold for $47,454. It\\'s price now is $34,007 — a drop of 28%.About a third of that drop happened this week, as \"Bitcoin, ethereum and other major cryptocurrencies have fallen sharp… [+975 chars]'},\n",
       "  {'source': {'id': None, 'name': 'Slashdot.org'},\n",
       "   'author': 'EditorDavid',\n",
       "   'title': \"Report: 'Nvidia's LHR Limiter Has Fallen, But Gamers Shouldn't Worry'\",\n",
       "   'description': 'Slashdot reader Hmmmmmm shared this report from Hot Hardware:\\n\\nWhen Nvidia launched its Ampere Lite Hash Rate (LHR) graphics card with the feared Ethereum anti-mining limiter, the world knew it was only a matter of time before someone or a team cracked it. Ni…',\n",
       "   'url': 'https://tech.slashdot.org/story/22/05/15/190252/report-nvidias-lhr-limiter-has-fallen-but-gamers-shouldnt-worry',\n",
       "   'urlToImage': 'https://a.fsdn.com/sd/topics/graphics_64.png',\n",
       "   'publishedAt': '2022-05-15T19:39:00Z',\n",
       "   'content': 'When Nvidia launched its Ampere Lite Hash Rate (LHR) graphics card with the feared Ethereum anti-mining limiter, the world knew it was only a matter of time before someone or a team cracked it. NiceH… [+1230 chars]'},\n",
       "  {'source': {'id': 'reuters', 'name': 'Reuters'},\n",
       "   'author': None,\n",
       "   'title': 'Bitcoin falls 7.2% to $28758 - Reuters.com',\n",
       "   'description': 'Bitcoin fell 7.23% to $28,758.29 at 22:05 GMT on Wednesday, losing $2,241.68 from its previous close.',\n",
       "   'url': 'https://www.reuters.com/business/bitcoin-falls-72-28758-2022-05-11/',\n",
       "   'urlToImage': 'https://www.reuters.com/resizer/lEay-or8c9TPjZOEmIjrJf3ylQk=/1200x628/smart/filters:quality(80)/cloudfront-us-east-2.images.arcpublishing.com/reuters/3RKTTS2CRVM2BEEDCB2ZIPV3L4.jpg',\n",
       "   'publishedAt': '2022-05-11T22:18:00Z',\n",
       "   'content': \"May 11 (Reuters) - Bitcoin fell 7.23% to $28,758.29 at 22:05 GMT on Wednesday, losing $2,241.68 from its previous close.\\r\\nBitcoin, the world's biggest and best-known cryptocurrency, is down 40.4% fro… [+361 chars]\"},\n",
       "  {'source': {'id': 'reuters', 'name': 'Reuters'},\n",
       "   'author': None,\n",
       "   'title': 'Bitcoin falls 7.8% to $31333 - Reuters',\n",
       "   'description': 'Bitcoin dropped 7.81% to $31,333.41 at 20:03 GMT on Monday, losing $2,655.98 from its previous close.',\n",
       "   'url': 'https://www.reuters.com/business/bitcoin-falls-78-31333-2022-05-09/',\n",
       "   'urlToImage': 'https://www.reuters.com/resizer/BWWUiBev3PUU7DomJJXE2-Iqz30=/1200x628/smart/filters:quality(80)/cloudfront-us-east-2.images.arcpublishing.com/reuters/OZ6CVP422VIJ5A6UACI72VHUSY.jpg',\n",
       "   'publishedAt': '2022-05-09T20:11:00Z',\n",
       "   'content': \"May 9 (Reuters) - Bitcoin dropped 7.81% to $31,333.41 at 20:03 GMT on Monday, losing $2,655.98 from its previous close.\\r\\nBitcoin, the world's biggest and best-known cryptocurrency, is down 35% from t… [+351 chars]\"},\n",
       "  {'source': {'id': 'reuters', 'name': 'Reuters'},\n",
       "   'author': None,\n",
       "   'title': 'Bitcoin gains over 5% to $31441.76 - Reuters',\n",
       "   'description': 'Bitcoin rose 5.2% to $31,441.76 at 2000 GMT on Monday, adding $1,552.78 to its previous close.',\n",
       "   'url': 'https://www.reuters.com/markets/us/bitcoin-gains-over-5-3144176-2022-06-06/',\n",
       "   'urlToImage': 'https://www.reuters.com/resizer/lEay-or8c9TPjZOEmIjrJf3ylQk=/1200x628/smart/filters:quality(80)/cloudfront-us-east-2.images.arcpublishing.com/reuters/3RKTTS2CRVM2BEEDCB2ZIPV3L4.jpg',\n",
       "   'publishedAt': '2022-06-06T20:11:00Z',\n",
       "   'content': \"June 6 (Reuters) - Bitcoin rose 5.2% to $31,441.76 at 2000 GMT on Monday, adding $1,552.78 to its previous close.\\r\\nThe world's biggest and best-known cryptocurrency is down 34.8% from the year's high… [+335 chars]\"},\n",
       "  {'source': {'id': 'ars-technica', 'name': 'Ars Technica'},\n",
       "   'author': 'Andrew Cunningham',\n",
       "   'title': 'NiceHash software unlocks full crypto-mining performance for most Nvidia GPUs',\n",
       "   'description': \"But the workaround still can't defeat the newest version of Nvidia's LHR tech.\",\n",
       "   'url': 'https://arstechnica.com/gadgets/2022/05/nicehash-software-unlocks-full-cryptomining-performance-for-most-nvidia-gpus/',\n",
       "   'urlToImage': 'https://cdn.arstechnica.net/wp-content/uploads/2018/03/30770561533_a4ea9f1dd9_o-760x380.jpg',\n",
       "   'publishedAt': '2022-05-09T16:52:01Z',\n",
       "   'content': '9 with 8 posters participating\\r\\nNvidia began releasing LHR (or Lite Hash Rate) graphics cards last year\\xa0to slow down their cryptocurrency mining performance and make them less appealing to non-gamers… [+2182 chars]'},\n",
       "  {'source': {'id': None, 'name': 'Bitcoin.com'},\n",
       "   'author': None,\n",
       "   'title': 'Bitcoin, Ethereum Technical Analysis: BTC Slips to 10-Month Low, Below $33000 – Market Updates Bitcoin News - Bitcoin News',\n",
       "   'description': '<ol><li>Bitcoin, Ethereum Technical Analysis: BTC Slips to 10-Month Low, Below $33000 – Market Updates Bitcoin News\\xa0\\xa0Bitcoin News\\r\\n</li><li>Bitcoin drops 50% from peak, near lowest levels in last one year\\xa0\\xa0Economic Times\\r\\n</li><li>Crypto Crash: Why is cryptoc…',\n",
       "   'url': 'https://news.bitcoin.com/bitcoin-ethereum-technical-analysis-btc-slips-to-10-month-low-below-33000/',\n",
       "   'urlToImage': 'https://static.news.bitcoin.com/wp-content/uploads/2022/05/shutterstock_1978798856-1.jpg',\n",
       "   'publishedAt': '2022-05-09T13:45:30Z',\n",
       "   'content': 'BTC fell to its lowest level since last July, as prices dropped below $33,000 to start the week. The selloff in cryptocurrency started last week, following the Fed’s decision to hike interest rates b… [+2651 chars]'},\n",
       "  {'source': {'id': 'business-insider', 'name': 'Business Insider'},\n",
       "   'author': 'mfox@businessinsider.com (Matthew Fox)',\n",
       "   'title': 'Weekly NFT sales plunge 50% to $255 million amid crypto bear market. These were the 5 best-selling digital collections.',\n",
       "   'description': 'Total NFT sales volume hit $29 billion over the past year as artists, investors, and entrepreneurs descend upon the nascent Web3 space.',\n",
       "   'url': 'https://markets.businessinsider.com/news/currencies/bored-ape-yacht-club-reclaims-top-spot-weekly-nft-sales-2022-5',\n",
       "   'urlToImage': 'https://i.insider.com/628508651aa29100196a381f?width=1200&format=jpeg',\n",
       "   'publishedAt': '2022-05-18T15:53:28Z',\n",
       "   'content': 'The cryptocurrency boom over the past few years has helped propel a newer market to record heights: digital collectibles known as NFTs.\\xa0\\r\\nThe craze has pushed total NFT sales volume to $29 billion ov… [+2866 chars]'},\n",
       "  {'source': {'id': None, 'name': 'Entrepreneur'},\n",
       "   'author': 'John Monarch',\n",
       "   'title': 'Can Blockchain Help Fix Broken Supply Chains in 2022?',\n",
       "   'description': 'Blockchain in Supply Chain was a hot topic - then fell very quiet. Where is it today?',\n",
       "   'url': 'https://www.entrepreneur.com/article/426351',\n",
       "   'urlToImage': 'https://assets.entrepreneur.com/content/3x2/2000/1653325433-GettyImages-1194691729.jpg',\n",
       "   'publishedAt': '2022-06-03T14:00:00Z',\n",
       "   'content': 'We first heard about the potential of blockchain in supply chains several years ago, and almost immediately were thrust into a cycle of hype and hope of what they could do for us, followed by a \"trou… [+4785 chars]'},\n",
       "  {'source': {'id': 'bbc-news', 'name': 'BBC News'},\n",
       "   'author': 'https://www.facebook.com/bbcnews',\n",
       "   'title': 'Bitcoin value drops by 50% since November peak',\n",
       "   'description': 'The slide in the value of cryptocurrencies comes as stock markets around the world have also fallen.',\n",
       "   'url': 'https://www.bbc.co.uk/news/business-61375152',\n",
       "   'urlToImage': 'https://ichef.bbci.co.uk/news/1024/branded_news/8362/production/_124643633_gettyimages-1384896168.jpg',\n",
       "   'publishedAt': '2022-05-09T03:04:37Z',\n",
       "   'content': \"Image source, Getty Images\\r\\nThe value of Bitcoin continued to fall over the weekend as it dropped below $34,000 (£27,630), according to the Coinbase cryptocurrency exchange.\\r\\nThe world's largest cryp… [+2164 chars]\"},\n",
       "  {'source': {'id': 'business-insider', 'name': 'Business Insider'},\n",
       "   'author': 'bevans@insider.com (Brian Evans)',\n",
       "   'title': 'Solana tumbles as its blockchain network suffers 2nd outage in a month',\n",
       "   'description': 'Solana suffered similar turbulence on May 1, when its network remained down for roughly seven hours.',\n",
       "   'url': 'https://markets.businessinsider.com/news/currencies/solana-price-sol-tumbles-blockchain-network-suffers-2nd-outage-month-2022-6',\n",
       "   'urlToImage': 'https://i.insider.com/6297c14ce319620018a80e29?width=1200&format=jpeg',\n",
       "   'publishedAt': '2022-06-01T19:58:36Z',\n",
       "   'content': 'Solana, the third largest cryptocurrency by market capitalization, fell 10% Wednesday following reports of its blockchain network suffering another outage.\\xa0\\r\\nThe blockchain had not produced new block… [+566 chars]'},\n",
       "  {'source': {'id': 'business-insider', 'name': 'Business Insider'},\n",
       "   'author': 'mfox@businessinsider.com (Matthew Fox)',\n",
       "   'title': 'Weekly NFT sales drop 23% to $191 million amid crypto bear market. These were the 5 best-selling digital collections.',\n",
       "   'description': 'Total NFT sales volume hit $29 billion over the past year as artists, investors, and entrepreneurs descend upon the nascent Web3 space.',\n",
       "   'url': 'https://markets.businessinsider.com/news/currencies/meebits-rise-top-spot-weekly-nft-sales-crypto-bored-apes-2022-5',\n",
       "   'urlToImage': 'https://i.insider.com/627281def6bd4b0019cb550c?width=1200&format=jpeg',\n",
       "   'publishedAt': '2022-05-25T14:55:04Z',\n",
       "   'content': 'The cryptocurrency boom over the past few years has helped propel a newer market to record heights: digital collectibles known as NFTs.\\xa0\\r\\nThe craze has pushed total NFT sales volume to $29 billion ov… [+2830 chars]'},\n",
       "  {'source': {'id': 'ars-technica', 'name': 'Ars Technica'},\n",
       "   'author': 'Jon Brodkin',\n",
       "   'title': 'NY passes US-first moratorium on reviving fossil fuel plants to mine crypto',\n",
       "   'description': 'If signed by gov., bill would halt permits while state studies environmental impact.',\n",
       "   'url': 'https://arstechnica.com/tech-policy/2022/06/ny-passes-us-first-moratorium-on-reviving-fossil-fuel-plants-to-mine-crypto/',\n",
       "   'urlToImage': 'https://cdn.arstechnica.net/wp-content/uploads/2022/06/getty-bitcoin-760x380.jpg',\n",
       "   'publishedAt': '2022-06-03T20:26:26Z',\n",
       "   'content': \"6 with 6 posters participating\\r\\nNew York's state legislature approved a bill that would prevent fossil fuel power plants from being revived to power cryptocurrency mining operations. If signed by Gov… [+3200 chars]\"},\n",
       "  {'source': {'id': 'wired', 'name': 'Wired'},\n",
       "   'author': 'Steven Levy',\n",
       "   'title': 'Meta’s New COO Is Nothing Like Sheryl Sandberg',\n",
       "   'description': 'Plus: The early days of Facebook, charitable donations, and a disconcerting playlist.',\n",
       "   'url': 'https://www.wired.com/story/plaintext-meta-new-coo-sheryl-sandberg/',\n",
       "   'urlToImage': 'https://media.wired.com/photos/62995c649fa3280504562879/191:100/w_1280,c_limit/Javier-Olivan-Meta-COO-Business-Plain-Background.jpg',\n",
       "   'publishedAt': '2022-06-03T13:00:00Z',\n",
       "   'content': 'Hey, folks. Were deadlocked on gun safety, the Ukraine war still grinds on, and a gallon of gas is approaching the price of an Ethereum gas fee. At least we dont have to deal with Johnny Depp for ano… [+4167 chars]'}]}"
      ]
     },
     "execution_count": 58,
     "metadata": {},
     "output_type": "execute_result"
    }
   ],
   "source": [
    "# Fetch the Ethereum news articles\n",
    "link = \"https://newsapi.org/v2/everything\"\n",
    "ethereum = \"?q=ethereum\"\n",
    "api = \"&apiKey=\" + news_api\n",
    "\n",
    "request = requests.get(link + ethereum + api)\n",
    "ethereum_articles = request.json()\n",
    "ethereum_articles"
   ]
  },
  {
   "cell_type": "code",
   "execution_count": 6,
   "metadata": {},
   "outputs": [],
   "source": [
    "# Create the Bitcoin sentiment scores DataFrame\n",
    "# YOUR CODE HERE!"
   ]
  },
  {
   "cell_type": "code",
   "execution_count": 7,
   "metadata": {},
   "outputs": [],
   "source": [
    "# Create the Ethereum sentiment scores DataFrame\n",
    "# YOUR CODE HERE!"
   ]
  },
  {
   "cell_type": "code",
   "execution_count": 8,
   "metadata": {},
   "outputs": [],
   "source": [
    "# Describe the Bitcoin Sentiment\n",
    "# YOUR CODE HERE!"
   ]
  },
  {
   "cell_type": "code",
   "execution_count": 9,
   "metadata": {},
   "outputs": [],
   "source": [
    "# Describe the Ethereum Sentiment\n",
    "# YOUR CODE HERE!"
   ]
  },
  {
   "cell_type": "markdown",
   "metadata": {},
   "source": [
    "### Questions:\n",
    "\n",
    "Q: Which coin had the highest mean positive score?\n",
    "\n",
    "A: \n",
    "\n",
    "Q: Which coin had the highest compound score?\n",
    "\n",
    "A: \n",
    "\n",
    "Q. Which coin had the highest positive score?\n",
    "\n",
    "A: "
   ]
  },
  {
   "cell_type": "markdown",
   "metadata": {},
   "source": [
    "---"
   ]
  },
  {
   "cell_type": "markdown",
   "metadata": {},
   "source": [
    "## 2. Natural Language Processing\n",
    "---\n",
    "###   Tokenizer\n",
    "\n",
    "In this section, you will use NLTK and Python to tokenize the text for each coin. Be sure to:\n",
    "1. Lowercase each word.\n",
    "2. Remove Punctuation.\n",
    "3. Remove Stopwords."
   ]
  },
  {
   "cell_type": "code",
   "execution_count": 10,
   "metadata": {},
   "outputs": [],
   "source": [
    "from nltk.tokenize import word_tokenize, sent_tokenize\n",
    "from nltk.corpus import stopwords\n",
    "from nltk.stem import WordNetLemmatizer, PorterStemmer\n",
    "from string import punctuation\n",
    "import re"
   ]
  },
  {
   "cell_type": "code",
   "execution_count": 11,
   "metadata": {},
   "outputs": [],
   "source": [
    "# Instantiate the lemmatizer\n",
    "# YOUR CODE HERE!\n",
    "\n",
    "# Create a list of stopwords\n",
    "# YOUR CODE HERE!\n",
    "\n",
    "# Expand the default stopwords list if necessary\n",
    "# YOUR CODE HERE!"
   ]
  },
  {
   "cell_type": "code",
   "execution_count": 12,
   "metadata": {},
   "outputs": [],
   "source": [
    "# Complete the tokenizer function\n",
    "def tokenizer(text):\n",
    "    \"\"\"Tokenizes text.\"\"\"\n",
    "    \n",
    "    # Remove the punctuation from text\n",
    "\n",
    "   \n",
    "    # Create a tokenized list of the words\n",
    "    \n",
    "    \n",
    "    # Lemmatize words into root words\n",
    "\n",
    "   \n",
    "    # Convert the words to lowercase\n",
    "    \n",
    "    \n",
    "    # Remove the stop words\n",
    "    \n",
    "    \n",
    "    return tokens"
   ]
  },
  {
   "cell_type": "code",
   "execution_count": 13,
   "metadata": {},
   "outputs": [],
   "source": [
    "# Create a new tokens column for Bitcoin\n",
    "# YOUR CODE HERE!"
   ]
  },
  {
   "cell_type": "code",
   "execution_count": 14,
   "metadata": {},
   "outputs": [],
   "source": [
    "# Create a new tokens column for Ethereum\n",
    "# YOUR CODE HERE!"
   ]
  },
  {
   "cell_type": "markdown",
   "metadata": {},
   "source": [
    "---"
   ]
  },
  {
   "cell_type": "markdown",
   "metadata": {},
   "source": [
    "### NGrams and Frequency Analysis\n",
    "\n",
    "In this section you will look at the ngrams and word frequency for each coin. \n",
    "\n",
    "1. Use NLTK to produce the n-grams for N = 2. \n",
    "2. List the top 10 words for each coin. "
   ]
  },
  {
   "cell_type": "code",
   "execution_count": 15,
   "metadata": {},
   "outputs": [],
   "source": [
    "from collections import Counter\n",
    "from nltk import ngrams"
   ]
  },
  {
   "cell_type": "code",
   "execution_count": 16,
   "metadata": {},
   "outputs": [],
   "source": [
    "# Generate the Bitcoin N-grams where N=2\n",
    "# YOUR CODE HERE!"
   ]
  },
  {
   "cell_type": "code",
   "execution_count": 17,
   "metadata": {},
   "outputs": [],
   "source": [
    "# Generate the Ethereum N-grams where N=2\n",
    "# YOUR CODE HERE!"
   ]
  },
  {
   "cell_type": "code",
   "execution_count": 18,
   "metadata": {},
   "outputs": [],
   "source": [
    "# Function token_count generates the top 10 words for a given coin\n",
    "def token_count(tokens, N=3):\n",
    "    \"\"\"Returns the top N tokens from the frequency count\"\"\"\n",
    "    return Counter(tokens).most_common(N)"
   ]
  },
  {
   "cell_type": "code",
   "execution_count": 19,
   "metadata": {},
   "outputs": [],
   "source": [
    "# Use token_count to get the top 10 words for Bitcoin\n",
    "# YOUR CODE HERE!"
   ]
  },
  {
   "cell_type": "code",
   "execution_count": 20,
   "metadata": {},
   "outputs": [],
   "source": [
    "# Use token_count to get the top 10 words for Ethereum\n",
    "# YOUR CODE HERE!"
   ]
  },
  {
   "cell_type": "markdown",
   "metadata": {},
   "source": [
    "---"
   ]
  },
  {
   "cell_type": "markdown",
   "metadata": {},
   "source": [
    "### Word Clouds\n",
    "\n",
    "In this section, you will generate word clouds for each coin to summarize the news for each coin"
   ]
  },
  {
   "cell_type": "code",
   "execution_count": 21,
   "metadata": {},
   "outputs": [],
   "source": [
    "from wordcloud import WordCloud\n",
    "import matplotlib.pyplot as plt\n",
    "plt.style.use('seaborn-whitegrid')\n",
    "import matplotlib as mpl\n",
    "mpl.rcParams['figure.figsize'] = [20.0, 10.0]"
   ]
  },
  {
   "cell_type": "code",
   "execution_count": 22,
   "metadata": {},
   "outputs": [],
   "source": [
    "# Generate the Bitcoin word cloud\n",
    "# YOUR CODE HERE!"
   ]
  },
  {
   "cell_type": "code",
   "execution_count": 23,
   "metadata": {},
   "outputs": [],
   "source": [
    "# Generate the Ethereum word cloud\n",
    "# YOUR CODE HERE!"
   ]
  },
  {
   "cell_type": "markdown",
   "metadata": {},
   "source": [
    "---\n",
    "## 3. Named Entity Recognition\n",
    "\n",
    "In this section, you will build a named entity recognition model for both Bitcoin and Ethereum, then visualize the tags using SpaCy."
   ]
  },
  {
   "cell_type": "code",
   "execution_count": 24,
   "metadata": {},
   "outputs": [],
   "source": [
    "import spacy\n",
    "from spacy import displacy"
   ]
  },
  {
   "cell_type": "code",
   "execution_count": 25,
   "metadata": {},
   "outputs": [],
   "source": [
    "# Download the language model for SpaCy\n",
    "# !python -m spacy download en_core_web_sm"
   ]
  },
  {
   "cell_type": "code",
   "execution_count": 26,
   "metadata": {},
   "outputs": [],
   "source": [
    "# Load the spaCy model\n",
    "nlp = spacy.load('en_core_web_sm')"
   ]
  },
  {
   "cell_type": "markdown",
   "metadata": {},
   "source": [
    "---\n",
    "### Bitcoin NER"
   ]
  },
  {
   "cell_type": "code",
   "execution_count": 27,
   "metadata": {},
   "outputs": [],
   "source": [
    "# Concatenate all of the Bitcoin text together\n",
    "# YOUR CODE HERE!"
   ]
  },
  {
   "cell_type": "code",
   "execution_count": 28,
   "metadata": {},
   "outputs": [],
   "source": [
    "# Run the NER processor on all of the text\n",
    "# YOUR CODE HERE!\n",
    "\n",
    "# Add a title to the document\n",
    "# YOUR CODE HERE!"
   ]
  },
  {
   "cell_type": "code",
   "execution_count": 29,
   "metadata": {},
   "outputs": [],
   "source": [
    "# Render the visualization\n",
    "# YOUR CODE HERE!"
   ]
  },
  {
   "cell_type": "code",
   "execution_count": 30,
   "metadata": {},
   "outputs": [],
   "source": [
    "# List all Entities\n",
    "# YOUR CODE HERE!"
   ]
  },
  {
   "cell_type": "markdown",
   "metadata": {},
   "source": [
    "---"
   ]
  },
  {
   "cell_type": "markdown",
   "metadata": {},
   "source": [
    "### Ethereum NER"
   ]
  },
  {
   "cell_type": "code",
   "execution_count": 31,
   "metadata": {},
   "outputs": [],
   "source": [
    "# Concatenate all of the Ethereum text together\n",
    "# YOUR CODE HERE!"
   ]
  },
  {
   "cell_type": "code",
   "execution_count": 32,
   "metadata": {},
   "outputs": [],
   "source": [
    "# Run the NER processor on all of the text\n",
    "# YOUR CODE HERE!\n",
    "\n",
    "# Add a title to the document\n",
    "# YOUR CODE HERE!"
   ]
  },
  {
   "cell_type": "code",
   "execution_count": 33,
   "metadata": {},
   "outputs": [],
   "source": [
    "# Render the visualization\n",
    "# YOUR CODE HERE!"
   ]
  },
  {
   "cell_type": "code",
   "execution_count": 34,
   "metadata": {},
   "outputs": [],
   "source": [
    "# List all Entities\n",
    "# YOUR CODE HERE!"
   ]
  },
  {
   "cell_type": "markdown",
   "metadata": {},
   "source": [
    "---"
   ]
  }
 ],
 "metadata": {
  "file_extension": ".py",
  "kernelspec": {
   "display_name": "Python (mlenv)",
   "language": "python",
   "name": "mlenv"
  },
  "language_info": {
   "codemirror_mode": {
    "name": "ipython",
    "version": 3
   },
   "file_extension": ".py",
   "mimetype": "text/x-python",
   "name": "python",
   "nbconvert_exporter": "python",
   "pygments_lexer": "ipython3",
   "version": "3.10.4"
  },
  "mimetype": "text/x-python",
  "name": "python",
  "npconvert_exporter": "python",
  "pygments_lexer": "ipython3",
  "version": 3
 },
 "nbformat": 4,
 "nbformat_minor": 4
}
